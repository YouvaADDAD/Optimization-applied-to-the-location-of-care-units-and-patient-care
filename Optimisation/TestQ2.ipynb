{
 "cells": [
  {
   "cell_type": "code",
   "execution_count": 1,
   "metadata": {},
   "outputs": [],
   "source": [
    "import pandas as pd\n",
    "import numpy as np\n",
    "from gurobipy import *"
   ]
  },
  {
   "cell_type": "code",
   "execution_count": 15,
   "metadata": {},
   "outputs": [],
   "source": [
    "villeFile=\"data/villes.csv\"\n",
    "dist_ville = pd.read_csv(villeFile, sep=\";\", encoding=\"ISO-8859-1\")\n",
    "population=dist_ville.iloc[:,0].values\n",
    "n = population.size\n",
    "k=5\n",
    "a=0.1\n",
    "dist= np.nan_to_num(dist_ville.iloc[:, 2:].values)\n",
    "distance = dist+dist.T\n",
    "gamma = (1+a)/k * population.sum()"
   ]
  },
  {
   "cell_type": "markdown",
   "metadata": {},
   "source": []
  },
  {
   "cell_type": "code",
   "execution_count": 16,
   "metadata": {},
   "outputs": [
    {
     "name": "stdout",
     "output_type": "stream",
     "text": [
      "Gurobi Optimizer version 9.1.1 build v9.1.1rc0 (win64)\n",
      "Thread count: 2 physical cores, 4 logical processors, using up to 4 threads\n",
      "Optimize a model with 20 rows, 75 columns and 150 nonzeros\n",
      "Model fingerprint: 0x61ffc24e\n",
      "Variable types: 0 continuous, 75 integer (75 binary)\n",
      "Coefficient statistics:\n",
      "  Matrix range     [1e+00, 5e+05]\n",
      "  Objective range  [1e+07, 5e+08]\n",
      "  Bounds range     [1e+00, 1e+00]\n",
      "  RHS range        [1e+00, 9e+05]\n",
      "Found heuristic solution: objective 2.305287e+09\n",
      "Presolve time: 0.00s\n",
      "Presolved: 20 rows, 75 columns, 150 nonzeros\n",
      "Variable types: 0 continuous, 75 integer (75 binary)\n",
      "\n",
      "Root relaxation: objective 5.357918e+08, 15 iterations, 0.00 seconds\n",
      "\n",
      "    Nodes    |    Current Node    |     Objective Bounds      |     Work\n",
      " Expl Unexpl |  Obj  Depth IntInf | Incumbent    BestBd   Gap | It/Node Time\n",
      "\n",
      "*    0     0               0    5.357918e+08 5.3579e+08  0.00%     -    0s\n",
      "\n",
      "Explored 0 nodes (15 simplex iterations) in 0.05 seconds\n",
      "Thread count was 4 (of 4 available processors)\n",
      "\n",
      "Solution count 2: 5.35792e+08 2.30529e+09 \n",
      "\n",
      "Optimal solution found (tolerance 1.00e-04)\n",
      "Best objective 5.357918410000e+08, best bound 5.357918410000e+08, gap 0.0000%\n"
     ]
    }
   ],
   "source": [
    "m=Model(\"mogProjet\")\n",
    "X = m.addMVar((n, k), vtype=GRB.BINARY, name=\"X\")       \n",
    "m.update()\n",
    "\n",
    "\n",
    "obj =LinExpr()\n",
    "obj=0\n",
    "\n",
    "for i in range(n):\n",
    "    for j in range(k):\n",
    "        obj+=distance[i][j]*X[i][j]*population[i]\n",
    "\n",
    "m.setObjective(obj,GRB.MINIMIZE)\n",
    "\n",
    "for i in range(n):\n",
    "    m.addConstr(sum(X[i][j] for j in range(k)) == 1, name=\"Consville%d\" % i)\n",
    "\n",
    "for j in range(k):\n",
    "    m.addConstr(sum(X[i][j] * population[i] for i in range(n)) <= gamma, name=\"ConstEquilibrage%d\" % (i))\n",
    "\n",
    "m.optimize()\n",
    "   "
   ]
  },
  {
   "cell_type": "code",
   "execution_count": 17,
   "metadata": {},
   "outputs": [
    {
     "name": "stdout",
     "output_type": "stream",
     "text": [
      "Valeur de la fonction objectif : 150.31332332725486\n"
     ]
    }
   ],
   "source": [
    "print('Valeur de la fonction objectif :', m.objVal/population.sum())     "
   ]
  },
  {
   "cell_type": "code",
   "execution_count": 18,
   "metadata": {},
   "outputs": [
    {
     "data": {
      "text/plain": [
       "array([[1, 0, 0, 0, 0],\n",
       "       [0, 1, 0, 0, 0],\n",
       "       [0, 0, 1, 0, 0],\n",
       "       [0, 0, 0, 1, 0],\n",
       "       [0, 0, 0, 0, 1],\n",
       "       [1, 0, 0, 0, 0],\n",
       "       [0, 0, 0, 0, 1],\n",
       "       [0, 0, 1, 0, 0],\n",
       "       [0, 0, 0, 0, 1],\n",
       "       [0, 0, 0, 1, 0],\n",
       "       [0, 1, 0, 0, 0],\n",
       "       [0, 0, 1, 0, 0],\n",
       "       [0, 0, 0, 1, 0],\n",
       "       [0, 0, 0, 0, 1],\n",
       "       [0, 0, 1, 0, 0]], dtype=uint32)"
      ]
     },
     "execution_count": 18,
     "metadata": {},
     "output_type": "execute_result"
    }
   ],
   "source": [
    "X.X.astype(np.uint)"
   ]
  },
  {
   "cell_type": "code",
   "execution_count": 24,
   "metadata": {},
   "outputs": [],
   "source": [
    "villeFile=\"data/villes.csv\"\n",
    "dist_ville = pd.read_csv(villeFile, sep=\";\", encoding=\"ISO-8859-1\")\n",
    "population=dist_ville.iloc[:,0].values\n",
    "n = population.size\n",
    "k=5\n",
    "a=0.1\n",
    "dist= np.nan_to_num(dist_ville.iloc[:, 2:].values)\n",
    "distance = dist+dist.T\n",
    "gamma = (1+a)/k * population.sum()"
   ]
  },
  {
   "cell_type": "code",
   "execution_count": 25,
   "metadata": {},
   "outputs": [
    {
     "name": "stdout",
     "output_type": "stream",
     "text": [
      "Gurobi Optimizer version 9.1.1 build v9.1.1rc0 (win64)\n",
      "Thread count: 2 physical cores, 4 logical processors, using up to 4 threads\n",
      "Optimize a model with 256 rows, 240 columns and 915 nonzeros\n",
      "Model fingerprint: 0x8afb05f3\n",
      "Variable types: 0 continuous, 240 integer (240 binary)\n",
      "Coefficient statistics:\n",
      "  Matrix range     [1e+00, 5e+05]\n",
      "  Objective range  [1e+07, 5e+08]\n",
      "  Bounds range     [1e+00, 1e+00]\n",
      "  RHS range        [1e+00, 8e+05]\n",
      "Presolve removed 15 rows and 0 columns\n",
      "Presolve time: 0.00s\n",
      "Presolved: 241 rows, 240 columns, 915 nonzeros\n",
      "Variable types: 0 continuous, 240 integer (240 binary)\n",
      "Found heuristic solution: objective 1.009971e+09\n",
      "\n",
      "Root relaxation: objective 4.712254e+08, 80 iterations, 0.00 seconds\n",
      "\n",
      "    Nodes    |    Current Node    |     Objective Bounds      |     Work\n",
      " Expl Unexpl |  Obj  Depth IntInf | Incumbent    BestBd   Gap | It/Node Time\n",
      "\n",
      "     0     0 4.7123e+08    0   26 1.0100e+09 4.7123e+08  53.3%     -    0s\n",
      "H    0     0                    7.299226e+08 4.7123e+08  35.4%     -    0s\n",
      "H    0     0                    6.548365e+08 4.7123e+08  28.0%     -    0s\n",
      "     0     0 4.8156e+08    0   34 6.5484e+08 4.8156e+08  26.5%     -    0s\n",
      "H    0     0                    6.366449e+08 4.8156e+08  24.4%     -    0s\n",
      "     0     0 4.8784e+08    0   34 6.3664e+08 4.8784e+08  23.4%     -    0s\n",
      "     0     0 4.9096e+08    0   34 6.3664e+08 4.9096e+08  22.9%     -    0s\n",
      "     0     0 4.9228e+08    0   28 6.3664e+08 4.9228e+08  22.7%     -    0s\n",
      "     0     0 5.0167e+08    0   42 6.3664e+08 5.0167e+08  21.2%     -    0s\n",
      "     0     0 5.0268e+08    0   46 6.3664e+08 5.0268e+08  21.0%     -    0s\n",
      "     0     0 5.0290e+08    0   39 6.3664e+08 5.0290e+08  21.0%     -    0s\n",
      "     0     0 5.1278e+08    0   16 6.3664e+08 5.1278e+08  19.5%     -    0s\n",
      "     0     0 5.1560e+08    0   21 6.3664e+08 5.1560e+08  19.0%     -    0s\n",
      "     0     0 5.1818e+08    0   30 6.3664e+08 5.1818e+08  18.6%     -    0s\n",
      "     0     0 5.1896e+08    0   30 6.3664e+08 5.1896e+08  18.5%     -    0s\n",
      "     0     0 5.2154e+08    0   28 6.3664e+08 5.2154e+08  18.1%     -    0s\n",
      "H    0     0                    6.011078e+08 5.2154e+08  13.2%     -    0s\n",
      "     0     0 5.2172e+08    0   16 6.0111e+08 5.2172e+08  13.2%     -    0s\n",
      "     0     0 5.2172e+08    0   31 6.0111e+08 5.2172e+08  13.2%     -    0s\n",
      "     0     0 5.2172e+08    0   42 6.0111e+08 5.2172e+08  13.2%     -    0s\n",
      "     0     0 5.2172e+08    0   32 6.0111e+08 5.2172e+08  13.2%     -    0s\n",
      "     0     0 5.2172e+08    0   27 6.0111e+08 5.2172e+08  13.2%     -    0s\n",
      "     0     0 5.2172e+08    0   15 6.0111e+08 5.2172e+08  13.2%     -    0s\n",
      "     0     0 5.2387e+08    0   12 6.0111e+08 5.2387e+08  12.8%     -    0s\n",
      "     0     0 5.2586e+08    0   30 6.0111e+08 5.2586e+08  12.5%     -    0s\n",
      "     0     0 5.3213e+08    0   41 6.0111e+08 5.3213e+08  11.5%     -    0s\n",
      "     0     0 5.3238e+08    0   42 6.0111e+08 5.3238e+08  11.4%     -    0s\n",
      "     0     0 5.3254e+08    0   51 6.0111e+08 5.3254e+08  11.4%     -    0s\n",
      "     0     0 5.3297e+08    0   50 6.0111e+08 5.3297e+08  11.3%     -    0s\n",
      "     0     0 5.3324e+08    0   50 6.0111e+08 5.3324e+08  11.3%     -    0s\n",
      "     0     0 5.3324e+08    0   50 6.0111e+08 5.3324e+08  11.3%     -    0s\n",
      "H    0     0                    5.840323e+08 5.3324e+08  8.70%     -    0s\n",
      "     0     0 5.3877e+08    0   22 5.8403e+08 5.3877e+08  7.75%     -    0s\n",
      "     0     0 5.3877e+08    0   29 5.8403e+08 5.3877e+08  7.75%     -    0s\n",
      "     0     0 5.3877e+08    0   26 5.8403e+08 5.3877e+08  7.75%     -    0s\n",
      "     0     0 5.3877e+08    0   25 5.8403e+08 5.3877e+08  7.75%     -    0s\n",
      "     0     0 5.3877e+08    0   32 5.8403e+08 5.3877e+08  7.75%     -    0s\n",
      "     0     0 5.4116e+08    0   37 5.8403e+08 5.4116e+08  7.34%     -    0s\n",
      "     0     0 5.4124e+08    0   44 5.8403e+08 5.4124e+08  7.33%     -    0s\n",
      "     0     0 5.4147e+08    0   32 5.8403e+08 5.4147e+08  7.29%     -    0s\n",
      "     0     0 5.4245e+08    0   47 5.8403e+08 5.4245e+08  7.12%     -    0s\n",
      "     0     0 5.4304e+08    0   50 5.8403e+08 5.4304e+08  7.02%     -    0s\n",
      "     0     0 5.4313e+08    0   50 5.8403e+08 5.4313e+08  7.00%     -    0s\n",
      "     0     0 5.4313e+08    0   50 5.8403e+08 5.4313e+08  7.00%     -    0s\n",
      "     0     0 5.5039e+08    0   21 5.8403e+08 5.5039e+08  5.76%     -    0s\n",
      "     0     0 5.5039e+08    0   28 5.8403e+08 5.5039e+08  5.76%     -    0s\n",
      "     0     0 5.5039e+08    0   26 5.8403e+08 5.5039e+08  5.76%     -    0s\n",
      "     0     0 5.5039e+08    0   25 5.8403e+08 5.5039e+08  5.76%     -    0s\n",
      "     0     0 5.5039e+08    0   42 5.8403e+08 5.5039e+08  5.76%     -    0s\n",
      "     0     0 5.5039e+08    0   36 5.8403e+08 5.5039e+08  5.76%     -    0s\n",
      "     0     0 5.5039e+08    0   46 5.8403e+08 5.5039e+08  5.76%     -    0s\n",
      "     0     0 5.5039e+08    0   49 5.8403e+08 5.5039e+08  5.76%     -    0s\n",
      "     0     0 5.5039e+08    0   49 5.8403e+08 5.5039e+08  5.76%     -    0s\n",
      "     0     0 5.5039e+08    0   49 5.8403e+08 5.5039e+08  5.76%     -    0s\n",
      "     0     2 5.5105e+08    0   49 5.8403e+08 5.5105e+08  5.65%     -    0s\n",
      "*    2     2               1    5.591119e+08 5.5105e+08  1.44%  19.0    0s\n",
      "\n",
      "Cutting planes:\n",
      "  Gomory: 2\n",
      "  Cover: 6\n",
      "  MIR: 4\n",
      "  StrongCG: 2\n",
      "  GUB cover: 1\n",
      "  Zero half: 1\n",
      "  RLT: 2\n",
      "\n",
      "Explored 5 nodes (884 simplex iterations) in 0.65 seconds\n",
      "Thread count was 4 (of 4 available processors)\n",
      "\n",
      "Solution count 7: 5.59112e+08 5.84032e+08 6.01108e+08 ... 1.00997e+09\n",
      "\n",
      "Optimal solution found (tolerance 1.00e-04)\n",
      "Best objective 5.591118710000e+08, best bound 5.591118710000e+08, gap 0.0000%\n"
     ]
    }
   ],
   "source": [
    "m = Model(\"mogProjet\")\n",
    "X = m.addMVar((n, n), vtype=GRB.BINARY, name=\"X\")\n",
    "Y = m.addMVar((n,1),vtype=GRB.BINARY, name=\"Y\")\n",
    "m.update()\n",
    "\n",
    "\n",
    "obj =LinExpr()\n",
    "obj=0\n",
    "\n",
    "for i in range(n):\n",
    "    for j in range(n):\n",
    "        obj+=distance[i][j]*X[i][j]*population[i]\n",
    "\n",
    "m.setObjective(obj,GRB.MINIMIZE)\n",
    "\n",
    "for i in range(n):\n",
    "    m.addConstr(sum(X[i][j] for j in range(n)) == 1, name=\"Consville%d\" % i)\n",
    "\n",
    "for j in range(n):\n",
    "        m.addConstr(sum(X[i][j] * population[i] for i in range(n)) <= gamma, name=\"ConstEquilibrage%d\" % (i))\n",
    "\n",
    "m.addConstr(sum(Y)==k,name=\"nbSecteur\")\n",
    "\n",
    "for i in range(n):\n",
    "    for j in range(n):\n",
    "        m.addConstr(X[i][j]<=Y[j])\n",
    "\n",
    "m.optimize()\n",
    "   "
   ]
  },
  {
   "cell_type": "code",
   "execution_count": 26,
   "metadata": {},
   "outputs": [
    {
     "data": {
      "text/plain": [
       "array([[1],\n",
       "       [1],\n",
       "       [1],\n",
       "       [0],\n",
       "       [0],\n",
       "       [0],\n",
       "       [1],\n",
       "       [0],\n",
       "       [0],\n",
       "       [0],\n",
       "       [0],\n",
       "       [0],\n",
       "       [0],\n",
       "       [1],\n",
       "       [0]], dtype=uint32)"
      ]
     },
     "execution_count": 26,
     "metadata": {},
     "output_type": "execute_result"
    }
   ],
   "source": [
    "Y.x.astype(np.uint)"
   ]
  },
  {
   "cell_type": "code",
   "execution_count": 27,
   "metadata": {},
   "outputs": [
    {
     "name": "stdout",
     "output_type": "stream",
     "text": [
      "Valeur de la fonction objectif : 156.8556237901529\n"
     ]
    }
   ],
   "source": [
    "print('Valeur de la fonction objectif :', m.objVal/population.sum())     "
   ]
  },
  {
   "cell_type": "code",
   "execution_count": 28,
   "metadata": {},
   "outputs": [
    {
     "data": {
      "text/plain": [
       "511"
      ]
     },
     "execution_count": 28,
     "metadata": {},
     "output_type": "execute_result"
    }
   ],
   "source": [
    "(X.X * distance).astype(int).max()"
   ]
  },
  {
   "cell_type": "code",
   "execution_count": null,
   "metadata": {},
   "outputs": [],
   "source": []
  },
  {
   "cell_type": "code",
   "execution_count": null,
   "metadata": {},
   "outputs": [],
   "source": []
  }
 ],
 "metadata": {
  "kernelspec": {
   "display_name": "Python 3",
   "language": "python",
   "name": "python3"
  },
  "language_info": {
   "codemirror_mode": {
    "name": "ipython",
    "version": 3
   },
   "file_extension": ".py",
   "mimetype": "text/x-python",
   "name": "python",
   "nbconvert_exporter": "python",
   "pygments_lexer": "ipython3",
   "version": "3.6.5"
  }
 },
 "nbformat": 4,
 "nbformat_minor": 4
}
